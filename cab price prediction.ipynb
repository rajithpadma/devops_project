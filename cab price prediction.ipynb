{
 "cells": [
  {
   "cell_type": "markdown",
   "metadata": {},
   "source": [
    "# Predicting Cab prices using XG boost Algorithm"
   ]
  },
  {
   "cell_type": "markdown",
   "metadata": {},
   "source": [
    "# Preprocessing"
   ]
  },
  {
   "cell_type": "code",
   "execution_count": 180,
   "metadata": {},
   "outputs": [],
   "source": [
    "#importing / installing necessary packages\n",
    "import pandas as pd\n",
    "import numpy as np\n",
    "import matplotlib.pyplot as plt\n",
    "import seaborn as sns\n"
   ]
  },
  {
   "cell_type": "code",
   "execution_count": 181,
   "metadata": {},
   "outputs": [],
   "source": [
    "from sklearn.model_selection import train_test_split\n",
    "from sklearn.preprocessing import StandardScaler, OneHotEncoder, LabelEncoder\n",
    "from sklearn.metrics import mean_absolute_error, mean_squared_error, r2_score"
   ]
  },
  {
   "cell_type": "code",
   "execution_count": 182,
   "metadata": {},
   "outputs": [],
   "source": [
    "# importing the dataset\n",
    "data=pd.read_csv('dynamic_pricing.csv')"
   ]
  },
  {
   "cell_type": "code",
   "execution_count": 183,
   "metadata": {},
   "outputs": [
    {
     "name": "stdout",
     "output_type": "stream",
     "text": [
      "     Number_of_Riders  Number_of_Drivers Location_Category  \\\n",
      "0                  90                 45             Urban   \n",
      "1                  58                 39          Suburban   \n",
      "2                  42                 31             Rural   \n",
      "3                  89                 28             Rural   \n",
      "4                  78                 22             Rural   \n",
      "..                ...                ...               ...   \n",
      "894                49                 29          Suburban   \n",
      "895                72                 54             Rural   \n",
      "896                72                 27             Urban   \n",
      "897                99                  6          Suburban   \n",
      "898                21                 10             Rural   \n",
      "\n",
      "    Customer_Loyalty_Status  Number_of_Past_Rides  Average_Ratings  \\\n",
      "0                    Silver                    13             4.47   \n",
      "1                    Silver                    72             4.06   \n",
      "2                    Silver                     0             3.99   \n",
      "3                   Regular                    67             4.31   \n",
      "4                   Regular                    74             3.77   \n",
      "..                      ...                   ...              ...   \n",
      "894                 Regular                    35             4.80   \n",
      "895                 Regular                    68             3.85   \n",
      "896                    Gold                    76             3.97   \n",
      "897                    Gold                    49             4.32   \n",
      "898                 Regular                    22             4.42   \n",
      "\n",
      "    Time_of_Booking Vehicle_Type  Expected_Ride_Duration  \\\n",
      "0             Night      Premium                      90   \n",
      "1           Evening      Economy                      43   \n",
      "2         Afternoon      Premium                      76   \n",
      "3         Afternoon      Premium                     134   \n",
      "4         Afternoon      Economy                     149   \n",
      "..              ...          ...                     ...   \n",
      "894         Evening      Premium                     160   \n",
      "895       Afternoon      Economy                      74   \n",
      "896         Morning      Premium                      70   \n",
      "897       Afternoon      Economy                     113   \n",
      "898         Morning      Economy                     151   \n",
      "\n",
      "     Historical_Cost_of_Ride  \n",
      "0                 284.257273  \n",
      "1                 173.874753  \n",
      "2                 329.795469  \n",
      "3                 470.201232  \n",
      "4                 579.681422  \n",
      "..                       ...  \n",
      "894               468.306920  \n",
      "895               220.498337  \n",
      "896               265.946615  \n",
      "897               311.489437  \n",
      "898               647.847777  \n",
      "\n",
      "[899 rows x 10 columns]\n"
     ]
    }
   ],
   "source": [
    "print(data)"
   ]
  },
  {
   "cell_type": "code",
   "execution_count": 184,
   "metadata": {},
   "outputs": [
    {
     "name": "stdout",
     "output_type": "stream",
     "text": [
      "   Number_of_Riders  Number_of_Drivers Location_Category  \\\n",
      "0                90                 45             Urban   \n",
      "1                58                 39          Suburban   \n",
      "2                42                 31             Rural   \n",
      "3                89                 28             Rural   \n",
      "4                78                 22             Rural   \n",
      "5                59                 35             Urban   \n",
      "6                93                 43          Suburban   \n",
      "7                62                 39             Rural   \n",
      "8                79                 14             Rural   \n",
      "9                42                  6             Rural   \n",
      "\n",
      "  Customer_Loyalty_Status  Number_of_Past_Rides  Average_Ratings  \\\n",
      "0                  Silver                    13             4.47   \n",
      "1                  Silver                    72             4.06   \n",
      "2                  Silver                     0             3.99   \n",
      "3                 Regular                    67             4.31   \n",
      "4                 Regular                    74             3.77   \n",
      "5                  Silver                    83             3.51   \n",
      "6                 Regular                    44             4.41   \n",
      "7                    Gold                    83             3.59   \n",
      "8                  Silver                    71             3.74   \n",
      "9                  Silver                    21             3.85   \n",
      "\n",
      "  Time_of_Booking Vehicle_Type  Expected_Ride_Duration  \\\n",
      "0           Night      Premium                      90   \n",
      "1         Evening      Economy                      43   \n",
      "2       Afternoon      Premium                      76   \n",
      "3       Afternoon      Premium                     134   \n",
      "4       Afternoon      Economy                     149   \n",
      "5           Night      Economy                     128   \n",
      "6       Afternoon      Premium                      16   \n",
      "7       Afternoon      Premium                      47   \n",
      "8         Evening      Economy                     128   \n",
      "9           Night      Premium                     128   \n",
      "\n",
      "   Historical_Cost_of_Ride  \n",
      "0               284.257273  \n",
      "1               173.874753  \n",
      "2               329.795469  \n",
      "3               470.201232  \n",
      "4               579.681422  \n",
      "5               339.955361  \n",
      "6               104.061541  \n",
      "7               235.811864  \n",
      "8               501.412517  \n",
      "9               398.993365  \n"
     ]
    }
   ],
   "source": [
    "print(data.head(10))"
   ]
  },
  {
   "cell_type": "code",
   "execution_count": 185,
   "metadata": {},
   "outputs": [
    {
     "name": "stdout",
     "output_type": "stream",
     "text": [
      "     Number_of_Riders  Number_of_Drivers Location_Category  \\\n",
      "889                53                 14          Suburban   \n",
      "890                79                 22             Rural   \n",
      "891                44                 24             Urban   \n",
      "892                34                 12          Suburban   \n",
      "893                55                 12             Urban   \n",
      "894                49                 29          Suburban   \n",
      "895                72                 54             Rural   \n",
      "896                72                 27             Urban   \n",
      "897                99                  6          Suburban   \n",
      "898                21                 10             Rural   \n",
      "\n",
      "    Customer_Loyalty_Status  Number_of_Past_Rides  Average_Ratings  \\\n",
      "889                  Silver                    24             3.99   \n",
      "890                  Silver                    53             3.96   \n",
      "891                  Silver                    55             4.08   \n",
      "892                 Regular                     3             4.83   \n",
      "893                  Silver                    96             4.66   \n",
      "894                 Regular                    35             4.80   \n",
      "895                 Regular                    68             3.85   \n",
      "896                    Gold                    76             3.97   \n",
      "897                    Gold                    49             4.32   \n",
      "898                 Regular                    22             4.42   \n",
      "\n",
      "    Time_of_Booking Vehicle_Type  Expected_Ride_Duration  \\\n",
      "889       Afternoon      Premium                     161   \n",
      "890         Evening      Premium                     126   \n",
      "891       Afternoon      Premium                     137   \n",
      "892           Night      Premium                      62   \n",
      "893         Morning      Premium                      48   \n",
      "894         Evening      Premium                     160   \n",
      "895       Afternoon      Economy                      74   \n",
      "896         Morning      Premium                      70   \n",
      "897       Afternoon      Economy                     113   \n",
      "898         Morning      Economy                     151   \n",
      "\n",
      "     Historical_Cost_of_Ride  \n",
      "889               707.449398  \n",
      "890               542.809573  \n",
      "891               513.990077  \n",
      "892               298.355620  \n",
      "893               183.270166  \n",
      "894               468.306920  \n",
      "895               220.498337  \n",
      "896               265.946615  \n",
      "897               311.489437  \n",
      "898               647.847777  \n"
     ]
    }
   ],
   "source": [
    "print(data.tail(10))"
   ]
  },
  {
   "cell_type": "code",
   "execution_count": 186,
   "metadata": {},
   "outputs": [
    {
     "name": "stdout",
     "output_type": "stream",
     "text": [
      "<bound method NDFrame.describe of      Number_of_Riders  Number_of_Drivers Location_Category  \\\n",
      "0                  90                 45             Urban   \n",
      "1                  58                 39          Suburban   \n",
      "2                  42                 31             Rural   \n",
      "3                  89                 28             Rural   \n",
      "4                  78                 22             Rural   \n",
      "..                ...                ...               ...   \n",
      "894                49                 29          Suburban   \n",
      "895                72                 54             Rural   \n",
      "896                72                 27             Urban   \n",
      "897                99                  6          Suburban   \n",
      "898                21                 10             Rural   \n",
      "\n",
      "    Customer_Loyalty_Status  Number_of_Past_Rides  Average_Ratings  \\\n",
      "0                    Silver                    13             4.47   \n",
      "1                    Silver                    72             4.06   \n",
      "2                    Silver                     0             3.99   \n",
      "3                   Regular                    67             4.31   \n",
      "4                   Regular                    74             3.77   \n",
      "..                      ...                   ...              ...   \n",
      "894                 Regular                    35             4.80   \n",
      "895                 Regular                    68             3.85   \n",
      "896                    Gold                    76             3.97   \n",
      "897                    Gold                    49             4.32   \n",
      "898                 Regular                    22             4.42   \n",
      "\n",
      "    Time_of_Booking Vehicle_Type  Expected_Ride_Duration  \\\n",
      "0             Night      Premium                      90   \n",
      "1           Evening      Economy                      43   \n",
      "2         Afternoon      Premium                      76   \n",
      "3         Afternoon      Premium                     134   \n",
      "4         Afternoon      Economy                     149   \n",
      "..              ...          ...                     ...   \n",
      "894         Evening      Premium                     160   \n",
      "895       Afternoon      Economy                      74   \n",
      "896         Morning      Premium                      70   \n",
      "897       Afternoon      Economy                     113   \n",
      "898         Morning      Economy                     151   \n",
      "\n",
      "     Historical_Cost_of_Ride  \n",
      "0                 284.257273  \n",
      "1                 173.874753  \n",
      "2                 329.795469  \n",
      "3                 470.201232  \n",
      "4                 579.681422  \n",
      "..                       ...  \n",
      "894               468.306920  \n",
      "895               220.498337  \n",
      "896               265.946615  \n",
      "897               311.489437  \n",
      "898               647.847777  \n",
      "\n",
      "[899 rows x 10 columns]>\n"
     ]
    }
   ],
   "source": [
    "print(data.describe)"
   ]
  },
  {
   "cell_type": "code",
   "execution_count": 187,
   "metadata": {},
   "outputs": [
    {
     "data": {
      "text/plain": [
       "(899, 10)"
      ]
     },
     "execution_count": 187,
     "metadata": {},
     "output_type": "execute_result"
    }
   ],
   "source": [
    "data.shape"
   ]
  },
  {
   "cell_type": "code",
   "execution_count": 188,
   "metadata": {},
   "outputs": [
    {
     "data": {
      "text/plain": [
       "Index(['Number_of_Riders', 'Number_of_Drivers', 'Location_Category',\n",
       "       'Customer_Loyalty_Status', 'Number_of_Past_Rides', 'Average_Ratings',\n",
       "       'Time_of_Booking', 'Vehicle_Type', 'Expected_Ride_Duration',\n",
       "       'Historical_Cost_of_Ride'],\n",
       "      dtype='object')"
      ]
     },
     "execution_count": 188,
     "metadata": {},
     "output_type": "execute_result"
    }
   ],
   "source": [
    "data.columns"
   ]
  },
  {
   "cell_type": "code",
   "execution_count": 189,
   "metadata": {},
   "outputs": [
    {
     "name": "stdout",
     "output_type": "stream",
     "text": [
      "     Number_of_Riders  Number_of_Drivers  Location_Category  \\\n",
      "0               False              False              False   \n",
      "1               False              False              False   \n",
      "2               False              False              False   \n",
      "3               False              False              False   \n",
      "4               False              False              False   \n",
      "..                ...                ...                ...   \n",
      "894             False              False              False   \n",
      "895             False              False              False   \n",
      "896             False              False              False   \n",
      "897             False              False              False   \n",
      "898             False              False              False   \n",
      "\n",
      "     Customer_Loyalty_Status  Number_of_Past_Rides  Average_Ratings  \\\n",
      "0                      False                 False            False   \n",
      "1                      False                 False            False   \n",
      "2                      False                 False            False   \n",
      "3                      False                 False            False   \n",
      "4                      False                 False            False   \n",
      "..                       ...                   ...              ...   \n",
      "894                    False                 False            False   \n",
      "895                    False                 False            False   \n",
      "896                    False                 False            False   \n",
      "897                    False                 False            False   \n",
      "898                    False                 False            False   \n",
      "\n",
      "     Time_of_Booking  Vehicle_Type  Expected_Ride_Duration  \\\n",
      "0              False         False                   False   \n",
      "1              False         False                   False   \n",
      "2              False         False                   False   \n",
      "3              False         False                   False   \n",
      "4              False         False                   False   \n",
      "..               ...           ...                     ...   \n",
      "894            False         False                   False   \n",
      "895            False         False                   False   \n",
      "896            False         False                   False   \n",
      "897            False         False                   False   \n",
      "898            False         False                   False   \n",
      "\n",
      "     Historical_Cost_of_Ride  \n",
      "0                      False  \n",
      "1                      False  \n",
      "2                      False  \n",
      "3                      False  \n",
      "4                      False  \n",
      "..                       ...  \n",
      "894                    False  \n",
      "895                    False  \n",
      "896                    False  \n",
      "897                    False  \n",
      "898                    False  \n",
      "\n",
      "[899 rows x 10 columns]\n",
      "     Number_of_Riders  Number_of_Drivers  Location_Category  \\\n",
      "0               False              False              False   \n",
      "1               False              False              False   \n",
      "2               False              False              False   \n",
      "3               False              False              False   \n",
      "4               False              False              False   \n",
      "..                ...                ...                ...   \n",
      "894             False              False              False   \n",
      "895             False              False              False   \n",
      "896             False              False              False   \n",
      "897             False              False              False   \n",
      "898             False              False              False   \n",
      "\n",
      "     Customer_Loyalty_Status  Number_of_Past_Rides  Average_Ratings  \\\n",
      "0                      False                 False            False   \n",
      "1                      False                 False            False   \n",
      "2                      False                 False            False   \n",
      "3                      False                 False            False   \n",
      "4                      False                 False            False   \n",
      "..                       ...                   ...              ...   \n",
      "894                    False                 False            False   \n",
      "895                    False                 False            False   \n",
      "896                    False                 False            False   \n",
      "897                    False                 False            False   \n",
      "898                    False                 False            False   \n",
      "\n",
      "     Time_of_Booking  Vehicle_Type  Expected_Ride_Duration  \\\n",
      "0              False         False                   False   \n",
      "1              False         False                   False   \n",
      "2              False         False                   False   \n",
      "3              False         False                   False   \n",
      "4              False         False                   False   \n",
      "..               ...           ...                     ...   \n",
      "894            False         False                   False   \n",
      "895            False         False                   False   \n",
      "896            False         False                   False   \n",
      "897            False         False                   False   \n",
      "898            False         False                   False   \n",
      "\n",
      "     Historical_Cost_of_Ride  \n",
      "0                      False  \n",
      "1                      False  \n",
      "2                      False  \n",
      "3                      False  \n",
      "4                      False  \n",
      "..                       ...  \n",
      "894                    False  \n",
      "895                    False  \n",
      "896                    False  \n",
      "897                    False  \n",
      "898                    False  \n",
      "\n",
      "[899 rows x 10 columns]\n"
     ]
    }
   ],
   "source": [
    "print(data.isnull())\n",
    "print(data.isna())"
   ]
  },
  {
   "cell_type": "code",
   "execution_count": 190,
   "metadata": {},
   "outputs": [],
   "source": [
    "data=data.dropna()"
   ]
  },
  {
   "cell_type": "code",
   "execution_count": 191,
   "metadata": {},
   "outputs": [
    {
     "name": "stdout",
     "output_type": "stream",
     "text": [
      "     Number_of_Riders  Number_of_Drivers Location_Category  \\\n",
      "0                  90                 45             Urban   \n",
      "1                  58                 39          Suburban   \n",
      "2                  42                 31             Rural   \n",
      "3                  89                 28             Rural   \n",
      "4                  78                 22             Rural   \n",
      "..                ...                ...               ...   \n",
      "894                49                 29          Suburban   \n",
      "895                72                 54             Rural   \n",
      "896                72                 27             Urban   \n",
      "897                99                  6          Suburban   \n",
      "898                21                 10             Rural   \n",
      "\n",
      "    Customer_Loyalty_Status  Number_of_Past_Rides  Average_Ratings  \\\n",
      "0                    Silver                    13             4.47   \n",
      "1                    Silver                    72             4.06   \n",
      "2                    Silver                     0             3.99   \n",
      "3                   Regular                    67             4.31   \n",
      "4                   Regular                    74             3.77   \n",
      "..                      ...                   ...              ...   \n",
      "894                 Regular                    35             4.80   \n",
      "895                 Regular                    68             3.85   \n",
      "896                    Gold                    76             3.97   \n",
      "897                    Gold                    49             4.32   \n",
      "898                 Regular                    22             4.42   \n",
      "\n",
      "    Time_of_Booking Vehicle_Type  Expected_Ride_Duration  \\\n",
      "0             Night      Premium                      90   \n",
      "1           Evening      Economy                      43   \n",
      "2         Afternoon      Premium                      76   \n",
      "3         Afternoon      Premium                     134   \n",
      "4         Afternoon      Economy                     149   \n",
      "..              ...          ...                     ...   \n",
      "894         Evening      Premium                     160   \n",
      "895       Afternoon      Economy                      74   \n",
      "896         Morning      Premium                      70   \n",
      "897       Afternoon      Economy                     113   \n",
      "898         Morning      Economy                     151   \n",
      "\n",
      "     Historical_Cost_of_Ride  \n",
      "0                 284.257273  \n",
      "1                 173.874753  \n",
      "2                 329.795469  \n",
      "3                 470.201232  \n",
      "4                 579.681422  \n",
      "..                       ...  \n",
      "894               468.306920  \n",
      "895               220.498337  \n",
      "896               265.946615  \n",
      "897               311.489437  \n",
      "898               647.847777  \n",
      "\n",
      "[899 rows x 10 columns]\n"
     ]
    }
   ],
   "source": [
    "print(data)"
   ]
  },
  {
   "cell_type": "code",
   "execution_count": 192,
   "metadata": {},
   "outputs": [
    {
     "data": {
      "image/png": "[encoded data removed]",
      "text/plain": [
       "<Figure size 640x480 with 1 Axes>"
      ]
     },
     "metadata": {},
     "output_type": "display_data"
    }
   ],
   "source": [
    "\n",
    "plt.bar(data['Location_Category'], data['Historical_Cost_of_Ride'], color='blue')\n",
    "\n",
    "# Add labels and title\n",
    "plt.xlabel('Location')\n",
    "plt.ylabel('Cost')\n",
    "plt.title('Location vs Price')\n",
    "\n",
    "# Show the plot\n",
    "plt.show()"
   ]
  },
  {
   "cell_type": "code",
   "execution_count": 193,
   "metadata": {},
   "outputs": [
    {
     "data": {
      "image/png": "[encoded data removed]",
      "text/plain": [
       "<Figure size 640x480 with 1 Axes>"
      ]
     },
     "metadata": {},
     "output_type": "display_data"
    }
   ],
   "source": [
    "\n",
    "plt.bar(data['Expected_Ride_Duration'], data['Historical_Cost_of_Ride'], color='blue')\n",
    "\n",
    "# Add labels and title\n",
    "plt.xlabel('Duration')\n",
    "plt.ylabel('Cost')\n",
    "plt.title('Duration vs Price')\n",
    "\n",
    "# Show the plot\n",
    "plt.show()"
   ]
  },
  {
   "cell_type": "code",
   "execution_count": 194,
   "metadata": {},
   "outputs": [
    {
     "data": {
      "image/png": "[encoded data removed]",
      "text/plain": [
       "<Figure size 640x480 with 1 Axes>"
      ]
     },
     "metadata": {},
     "output_type": "display_data"
    }
   ],
   "source": [
    "\n",
    "plt.bar(data['Vehicle_Type'], data['Historical_Cost_of_Ride'], color='blue')\n",
    "\n",
    "# Add labels and title\n",
    "plt.xlabel('Vehicle')\n",
    "plt.ylabel('Cost')\n",
    "plt.title('Vehicle vs Price')\n",
    "\n",
    "# Show the plot\n",
    "plt.show()"
   ]
  },
  {
   "cell_type": "markdown",
   "metadata": {},
   "source": [
    "## XG BOOST ALGORITHM"
   ]
  },
  {
   "cell_type": "code",
   "execution_count": 195,
   "metadata": {},
   "outputs": [],
   "source": [
    "# Creating the dataset with all independent variables\n",
    "X = data.iloc[:,:-1]\n",
    "\n",
    "# Creating the dataset with the dependent variable\n",
    "Y = data.iloc[:,-1]"
   ]
  },
  {
   "cell_type": "code",
   "execution_count": 196,
   "metadata": {},
   "outputs": [],
   "source": [
    "# Splitting the dataset into the Training set and Test set\n",
    "X_train, X_test, Y_train, Y_test = train_test_split(X, Y, test_size = 0.2, random_state = 0)"
   ]
  },
  {
   "cell_type": "code",
   "execution_count": 197,
   "metadata": {},
   "outputs": [
    {
     "name": "stdout",
     "output_type": "stream",
     "text": [
      "The shape of train dataset :\n",
      "(719, 9)\n",
      "\n",
      " The shape of test dataset :\n",
      "(180, 9)\n"
     ]
    }
   ],
   "source": [
    "\n",
    "print(\"The shape of train dataset :\")\n",
    "print(X_train.shape)\n",
    "\n",
    "print(\"\\n The shape of test dataset :\")\n",
    "print(X_test.shape)"
   ]
  },
  {
   "cell_type": "code",
   "execution_count": 198,
   "metadata": {},
   "outputs": [
    {
     "name": "stdout",
     "output_type": "stream",
     "text": [
      "Distribution of classes of dependent variable in train :\n",
      "Historical_Cost_of_Ride\n",
      "362.053331    1\n",
      "261.445150    1\n",
      "173.157754    1\n",
      "355.959507    1\n",
      "92.031047     1\n",
      "             ..\n",
      "49.234784     1\n",
      "242.271966    1\n",
      "249.302975    1\n",
      "172.629434    1\n",
      "520.565341    1\n",
      "Name: count, Length: 719, dtype: int64\n",
      "\n",
      " Distribution of classes of dependent variable in test :\n",
      "Historical_Cost_of_Ride\n",
      "691.501291    1\n",
      "336.394392    1\n",
      "128.016760    1\n",
      "210.256760    1\n",
      "173.887474    1\n",
      "             ..\n",
      "445.125411    1\n",
      "563.980327    1\n",
      "205.495760    1\n",
      "551.557234    1\n",
      "232.283455    1\n",
      "Name: count, Length: 180, dtype: int64\n"
     ]
    }
   ],
   "source": [
    "print(\"Distribution of classes of dependent variable in train :\")\n",
    "print(Y_train.value_counts())\n",
    "\n",
    "print(\"\\n Distribution of classes of dependent variable in test :\")\n",
    "print(Y_test.value_counts())"
   ]
  },
  {
   "cell_type": "code",
   "execution_count": 199,
   "metadata": {},
   "outputs": [],
   "source": [
    "import xgboost as xgb"
   ]
  },
  {
   "cell_type": "code",
   "execution_count": 200,
   "metadata": {},
   "outputs": [],
   "source": [
    "label_encoder = LabelEncoder()\n",
    "for col in ['Location_Category', 'Customer_Loyalty_Status', 'Time_of_Booking', 'Vehicle_Type']:\n",
    "    X_train[col] = label_encoder.fit_transform(X_train[col])\n",
    "    X_test[col] = label_encoder.transform(X_test[col])\n",
    "\n",
    "X_train = pd.get_dummies(X_train, columns=['Location_Category', 'Customer_Loyalty_Status', 'Time_of_Booking', 'Vehicle_Type'])\n",
    "X_test = pd.get_dummies(X_test, columns=['Location_Category', 'Customer_Loyalty_Status', 'Time_of_Booking', 'Vehicle_Type'])\n"
   ]
  },
  {
   "cell_type": "code",
   "execution_count": 201,
   "metadata": {},
   "outputs": [],
   "source": [
    "dtrain=xgb.DMatrix(X_train,label=Y_train)\n",
    "dtest=xgb.DMatrix(X_test)"
   ]
  },
  {
   "cell_type": "code",
   "execution_count": 202,
   "metadata": {},
   "outputs": [],
   "source": [
    "parameters = {\n",
    "    'max_depth': 7,\n",
    "    'eta': 0.1,  # Learning rate, can be adjusted\n",
    "    'objective': 'reg:squarederror',  # Objective for regression\n",
    "    'eval_metric': 'rmse',  # Root Mean Squared Error as evaluation metric\n",
    "    'learning_rate': 0.05\n",
    "}\n",
    "xg = xgb.train(parameters, dtrain, num_round)\n"
   ]
  },
  {
   "cell_type": "code",
   "execution_count": 203,
   "metadata": {},
   "outputs": [],
   "source": [
    "#now predicting our model on train set \n",
    "train_class_preds_probs=xg.predict(dtrain) \n",
    "#now predicting our model on test set \n",
    "test_class_preds_probs =xg.predict(dtest)"
   ]
  },
  {
   "cell_type": "code",
   "execution_count": 204,
   "metadata": {},
   "outputs": [
    {
     "data": {
      "text/plain": [
       "719"
      ]
     },
     "execution_count": 204,
     "metadata": {},
     "output_type": "execute_result"
    }
   ],
   "source": [
    "#length of pred prob\n",
    "len(train_class_preds_probs)"
   ]
  },
  {
   "cell_type": "code",
   "execution_count": 205,
   "metadata": {},
   "outputs": [],
   "source": [
    "#evaluation from thresold value\n",
    "train_class_preds = []\n",
    "test_class_preds = []\n",
    "for i in range(0,len(train_class_preds_probs)):\n",
    "  if train_class_preds_probs[i] >= 0.5:\n",
    "    train_class_preds.append(1)\n",
    "  else:\n",
    "    train_class_preds.append(0)\n",
    "\n",
    "for i in range(0,len(test_class_preds_probs)):\n",
    "  if test_class_preds_probs[i] >= 0.5:\n",
    "    test_class_preds.append(1)\n",
    "  else:\n",
    "    test_class_preds.append(0)"
   ]
  },
  {
   "cell_type": "code",
   "execution_count": 206,
   "metadata": {},
   "outputs": [
    {
     "data": {
      "text/plain": [
       "array([502.66837, 527.86584, 377.94608, 556.52374, 318.50275, 565.0325 ,\n",
       "       405.08432, 472.58945, 423.4881 , 392.3374 , 325.41122, 241.43054,\n",
       "       489.41162, 244.00822, 389.7109 , 429.41568, 279.302  , 413.92508,\n",
       "       134.17398, 486.98624], dtype=float32)"
      ]
     },
     "execution_count": 206,
     "metadata": {},
     "output_type": "execute_result"
    }
   ],
   "source": [
    "#print the array of pred prob\n",
    "test_class_preds_probs[:20]"
   ]
  },
  {
   "cell_type": "code",
   "execution_count": 207,
   "metadata": {},
   "outputs": [
    {
     "data": {
      "text/plain": [
       "719"
      ]
     },
     "execution_count": 207,
     "metadata": {},
     "output_type": "execute_result"
    }
   ],
   "source": [
    "#length of y train\n",
    "len(Y_train)"
   ]
  },
  {
   "cell_type": "code",
   "execution_count": 208,
   "metadata": {},
   "outputs": [],
   "source": [
    "from sklearn.neighbors import KNeighborsRegressor\n",
    "knn = KNeighborsRegressor(n_neighbors=5)  # You can change n_neighbors based on your requirement\n",
    "knn.fit(X_train, Y_train)\n",
    "\n",
    "# Predict\n",
    "knn_train_preds = knn.predict(X_train)\n",
    "knn_test_preds = knn.predict(X_test)"
   ]
  },
  {
   "cell_type": "code",
   "execution_count": 209,
   "metadata": {},
   "outputs": [
    {
     "name": "stdout",
     "output_type": "stream",
     "text": [
      "KNN RMSE (Train): 62.73410936990108\n",
      "KNN RMSE (Test): 73.72598594227395\n"
     ]
    },
    {
     "name": "stderr",
     "output_type": "stream",
     "text": [
      "c:\\Users\\rajit\\anaconda3\\Lib\\site-packages\\sklearn\\metrics\\_regression.py:483: FutureWarning: 'squared' is deprecated in version 1.4 and will be removed in 1.6. To calculate the root mean squared error, use the function'root_mean_squared_error'.\n",
      "  warnings.warn(\n",
      "c:\\Users\\rajit\\anaconda3\\Lib\\site-packages\\sklearn\\metrics\\_regression.py:483: FutureWarning: 'squared' is deprecated in version 1.4 and will be removed in 1.6. To calculate the root mean squared error, use the function'root_mean_squared_error'.\n",
      "  warnings.warn(\n"
     ]
    }
   ],
   "source": [
    "knn_train_rmse = mean_squared_error(Y_train, knn_train_preds, squared=False)\n",
    "knn_test_rmse = mean_squared_error(Y_test, knn_test_preds, squared=False)\n",
    "print(\"KNN RMSE (Train):\", knn_train_rmse)\n",
    "print(\"KNN RMSE (Test):\", knn_test_rmse)"
   ]
  },
  {
   "cell_type": "code",
   "execution_count": 210,
   "metadata": {},
   "outputs": [],
   "source": [
    "# Create a DataFrame\n",
    "df = pd.DataFrame({\n",
    "    'Test Class Predictions Probabilities': test_class_preds_probs,\n",
    "    'KNN Test Predictions': knn_test_preds\n",
    "})"
   ]
  },
  {
   "cell_type": "code",
   "execution_count": null,
   "metadata": {},
   "outputs": [],
   "source": []
  },
  {
   "cell_type": "code",
   "execution_count": 212,
   "metadata": {},
   "outputs": [
    {
     "data": {
      "image/png": "[encoded data removed]",
      "text/plain": [
       "<Figure size 1000x600 with 1 Axes>"
      ]
     },
     "metadata": {},
     "output_type": "display_data"
    }
   ],
   "source": [
    "\n",
    "import numpy as np\n",
    "import matplotlib.pyplot as plt\n",
    "\n",
    "# Assuming test_class_preds_probs and knn_test_preds are arrays of probabilities/scores\n",
    "# Calculate mean scores for each model\n",
    "mean_xgboost_score = np.mean(test_class_preds_probs)\n",
    "mean_knn_score = np.mean(knn_test_preds)\n",
    "\n",
    "labels = ['XG BOOST', 'KNN']\n",
    "values = [mean_xgboost_score, mean_knn_score]\n",
    "\n",
    "plt.figure(figsize=(10, 6))\n",
    "plt.bar(labels, values, color='red')\n",
    "\n",
    "# Add title and labels\n",
    "plt.title('Model Performance Comparison')\n",
    "plt.xlabel('Models')\n",
    "plt.ylabel('Mean Score')\n",
    "plt.show()\n"
   ]
  },
  {
   "cell_type": "code",
   "execution_count": null,
   "metadata": {},
   "outputs": [],
   "source": []
  }
 ],
 "metadata": {
  "kernelspec": {
   "display_name": "base",
   "language": "python",
   "name": "python3"
  },
  "language_info": {
   "codemirror_mode": {
    "name": "ipython",
    "version": 3
   },
   "file_extension": ".py",
   "mimetype": "text/x-python",
   "name": "python",
   "nbconvert_exporter": "python",
   "pygments_lexer": "ipython3",
   "version": "3.12.4"
  }
 },
 "nbformat": 4,
 "nbformat_minor": 2
}
